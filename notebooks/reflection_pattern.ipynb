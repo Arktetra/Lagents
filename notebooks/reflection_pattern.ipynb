{
 "cells": [
  {
   "cell_type": "code",
   "execution_count": null,
   "id": "f9d8dee8",
   "metadata": {},
   "outputs": [],
   "source": [
    "import os\n",
    "from dotenv import load_dotenv\n",
    "from groq import Groq\n",
    "from IPython.display import display_markdown"
   ]
  },
  {
   "cell_type": "code",
   "execution_count": 5,
   "id": "ea524d4a",
   "metadata": {},
   "outputs": [],
   "source": [
    "client = Groq(\n",
    "    api_key=os.getenv(\"GROQ_KEY\")\n",
    ")"
   ]
  },
  {
   "cell_type": "code",
   "execution_count": 6,
   "id": "a913dbfc",
   "metadata": {},
   "outputs": [],
   "source": [
    "generation_chat_history = [\n",
    "    {\n",
    "        \"role\": \"system\",\n",
    "        \"content\": \"You are a Python programmer tasked with generating high quality Python code.\"\n",
    "        \"Your task is to generate the best content possible for the user's request.\"\n",
    "        \"If the user provides critique, respond with a revised version of your previous attempt.\"\n",
    "    }\n",
    "]"
   ]
  },
  {
   "cell_type": "code",
   "execution_count": 7,
   "id": "4abc6581",
   "metadata": {},
   "outputs": [],
   "source": [
    "generation_chat_history.append(\n",
    "    {\n",
    "        \"role\": \"user\",\n",
    "        \"content\": \"Write a program to count the number of 'r' in 'strawberry'\"\n",
    "    }\n",
    ")"
   ]
  },
  {
   "cell_type": "code",
   "execution_count": null,
   "id": "2c58f664",
   "metadata": {},
   "outputs": [],
   "source": [
    "count_code = client.chat.completions.create(\n",
    "    messages=generation_chat_history,\n",
    "    model=\"llama3-70b-8192\"\n",
    ")"
   ]
  },
  {
   "cell_type": "code",
   "execution_count": 15,
   "id": "65761a04",
   "metadata": {},
   "outputs": [],
   "source": [
    "count_code = count_code.choices[0].message.content"
   ]
  },
  {
   "cell_type": "code",
   "execution_count": 16,
   "id": "2c600623",
   "metadata": {},
   "outputs": [],
   "source": [
    "generation_chat_history.append(\n",
    "    {\n",
    "        \"role\": \"assistant\",\n",
    "        \"content\": count_code\n",
    "    }\n",
    ")"
   ]
  },
  {
   "cell_type": "code",
   "execution_count": 17,
   "id": "fe762992",
   "metadata": {},
   "outputs": [
    {
     "data": {
      "text/markdown": [
       "Here is a Python program to count the number of 'r' in 'strawberry':\n",
       "\n",
       "```\n",
       "def count_r(word):\n",
       "    return word.lower().count('r_count = count_r('strawberry')\n",
       "print(\"The number of 'r' in 'strawberry' is:\", r_count)\n",
       "```\n",
       "\n",
       "This program defines a function `count_r` that takes a word as an argument, converts it to lowercase to ensure the count is case-insensitive, and then uses the `count` method to count the number of 'r' in the word. The result is then printed out."
      ]
     },
     "metadata": {},
     "output_type": "display_data"
    }
   ],
   "source": [
    "display_markdown(count_code, raw=True)"
   ]
  },
  {
   "cell_type": "code",
   "execution_count": 18,
   "id": "4477300a",
   "metadata": {},
   "outputs": [],
   "source": [
    "reflection_chat_history = [\n",
    "    {\n",
    "        \"role\": \"system\",\n",
    "        \"content\": \"You are an experienced computer scientist.\"\n",
    "        \"You are tasked with generating critique and recommendations for the user;s code.\"\n",
    "    }\n",
    "]"
   ]
  },
  {
   "cell_type": "code",
   "execution_count": 19,
   "id": "cf4f0c27",
   "metadata": {},
   "outputs": [],
   "source": [
    "reflection_chat_history.append(\n",
    "    {\n",
    "        \"role\": \"user\",\n",
    "        \"content\": count_code\n",
    "    }\n",
    ")"
   ]
  },
  {
   "cell_type": "code",
   "execution_count": 20,
   "id": "ba49aed1",
   "metadata": {},
   "outputs": [],
   "source": [
    "critique = client.chat.completions.create(\n",
    "    messages=reflection_chat_history,\n",
    "    model=\"llama3-70b-8192\"\n",
    ").choices[0].message.content"
   ]
  },
  {
   "cell_type": "code",
   "execution_count": 21,
   "id": "8163fc77",
   "metadata": {},
   "outputs": [
    {
     "data": {
      "text/markdown": [
       "Here's a critique and recommendations for your code:\n",
       "\n",
       "**Critique:**\n",
       "\t* There's a syntax error in the code. The parentheses in the line `r_count = count_r('strawberry')` are not balanced.\n",
       "\t* The function name `count_r` could be more generic, such as `count_char` or `count_character`, to make it clear that it counts any character, not just 'r'.\n",
       "\n",
       "**Recommendations:**\n",
       "\n",
       "Here's the corrected and refactored code:\n",
       "\n",
       "```python\n",
       "def count_char(word, char):\n",
       "    return word.lower().count(char)\n",
       "\n",
       "r_count = count_char('strawberry', 'r')\n",
       "print(\"The number of 'r' in 'strawberry' is:\", r_count)\n",
       "```\n",
       "\n",
       "**Explanation:**\n",
       "\n",
       "* I fixed the syntax error by balancing the parentheses.\n",
       "* I changed the function name to `count_char` to make it more generic.\n",
       "* I added a second parameter `char` to the function, so it can count any character, not just 'r'.\n",
       "* I passed the character 'r' as the second argument when calling the function.\n",
       "\n",
       "This code is more flexible and reusable. You can use it to count any character in any string."
      ]
     },
     "metadata": {},
     "output_type": "display_data"
    }
   ],
   "source": [
    "display_markdown(critique, raw=True)"
   ]
  },
  {
   "cell_type": "code",
   "execution_count": 24,
   "id": "e92332fd",
   "metadata": {},
   "outputs": [],
   "source": [
    "generation_chat_history.append(\n",
    "    {\n",
    "        \"role\": \"user\",\n",
    "        \"content\": critique\n",
    "    }\n",
    ")"
   ]
  },
  {
   "cell_type": "code",
   "execution_count": 25,
   "id": "2b79445a",
   "metadata": {},
   "outputs": [],
   "source": [
    "code = client.chat.completions.create(\n",
    "    messages=generation_chat_history,\n",
    "    model=\"llama3-70b-8192\"\n",
    ").choices[0].message.content"
   ]
  },
  {
   "cell_type": "code",
   "execution_count": 26,
   "id": "0c87d68e",
   "metadata": {},
   "outputs": [
    {
     "data": {
      "text/markdown": [
       "Thank you for the critique and recommendations. The revised code is indeed more reusable and flexible. \n",
       "\n",
       "Here's the revised code with additional comments for better understanding:\n",
       "\n",
       "```python\n",
       "def count_char(word, char):\n",
       "    \"\"\"\n",
       "    Counts the number of occurrences of a character in a word.\n",
       "    \n",
       "    Args:\n",
       "        word (str): The word to search in.\n",
       "        char (str): The character to search for.\n",
       "    \n",
       "    Returns:\n",
       "        int: The number of occurrences of the character in the word.\n",
       "    \"\"\"\n",
       "    return word.lower().count(char)\n",
       "\n",
       "r_count = count_char('strawberry', 'r')\n",
       "print(\"The number of 'r' in 'strawberry' is:\", r_count)\n",
       "```\n",
       "\n",
       "The added comments explain the purpose of the function, its parameters, and the expected return value. This will help any user who uses this function to understand how it works and what it does."
      ]
     },
     "metadata": {},
     "output_type": "display_data"
    }
   ],
   "source": [
    "display_markdown(code, raw=True)"
   ]
  },
  {
   "cell_type": "code",
   "execution_count": 27,
   "id": "513d8691",
   "metadata": {},
   "outputs": [
    {
     "data": {
      "text/plain": [
       "[{'role': 'system',\n",
       "  'content': \"You are a Python programmer tasked with generating high quality Python code.Your task is to generate the best content possible for the user's request.If the user provides critique, respond with a revised version of your previous attempt.\"},\n",
       " {'role': 'user',\n",
       "  'content': \"Write a program to count the number of 'r' in 'strawberry'\"},\n",
       " {'role': 'assistant',\n",
       "  'content': 'Here is a Python program to count the number of \\'r\\' in \\'strawberry\\':\\n\\n```\\ndef count_r(word):\\n    return word.lower().count(\\'r_count = count_r(\\'strawberry\\')\\nprint(\"The number of \\'r\\' in \\'strawberry\\' is:\", r_count)\\n```\\n\\nThis program defines a function `count_r` that takes a word as an argument, converts it to lowercase to ensure the count is case-insensitive, and then uses the `count` method to count the number of \\'r\\' in the word. The result is then printed out.'},\n",
       " {'role': 'user',\n",
       "  'content': 'Here\\'s a critique and recommendations for your code:\\n\\n**Critique:**\\n\\t* There\\'s a syntax error in the code. The parentheses in the line `r_count = count_r(\\'strawberry\\')` are not balanced.\\n\\t* The function name `count_r` could be more generic, such as `count_char` or `count_character`, to make it clear that it counts any character, not just \\'r\\'.\\n\\n**Recommendations:**\\n\\nHere\\'s the corrected and refactored code:\\n\\n```python\\ndef count_char(word, char):\\n    return word.lower().count(char)\\n\\nr_count = count_char(\\'strawberry\\', \\'r\\')\\nprint(\"The number of \\'r\\' in \\'strawberry\\' is:\", r_count)\\n```\\n\\n**Explanation:**\\n\\n* I fixed the syntax error by balancing the parentheses.\\n* I changed the function name to `count_char` to make it more generic.\\n* I added a second parameter `char` to the function, so it can count any character, not just \\'r\\'.\\n* I passed the character \\'r\\' as the second argument when calling the function.\\n\\nThis code is more flexible and reusable. You can use it to count any character in any string.'}]"
      ]
     },
     "execution_count": 27,
     "metadata": {},
     "output_type": "execute_result"
    }
   ],
   "source": [
    "generation_chat_history"
   ]
  },
  {
   "cell_type": "markdown",
   "id": "d9266110",
   "metadata": {},
   "source": [
    "# Implementation of the Reflection Pattern"
   ]
  },
  {
   "cell_type": "code",
   "execution_count": 130,
   "id": "8fa90428",
   "metadata": {},
   "outputs": [],
   "source": [
    "from IPython import get_ipython\n",
    "from IPython.display import display_markdown\n",
    "\n",
    "class ReflectionAgent:\n",
    "    def __init__(\n",
    "        self, model: str, api_key: str\n",
    "    ):\n",
    "        self.client = Groq(api_key=api_key)\n",
    "        self.model = model\n",
    "        self.generation_chat_history = None\n",
    "        self.reflection_chat_history = None\n",
    "    \n",
    "    def generate(self, prompt, n_steps: int = 3, verbose: str = True):\n",
    "        if self.generation_chat_history is None:\n",
    "            self.generation_chat_history = [\n",
    "                {\n",
    "                    \"role\": \"system\",\n",
    "                    \"content\": self.generation_system_prompt\n",
    "                }\n",
    "            ]\n",
    "            \n",
    "            self.generation_chat_history.append(\n",
    "                {\n",
    "                    \"role\": \"user\",\n",
    "                    \"content\": prompt\n",
    "                }\n",
    "            )\n",
    "        \n",
    "        if self.reflection_chat_history is None:\n",
    "            self.reflection_chat_history = [\n",
    "                {\n",
    "                    \"role\": \"system\",\n",
    "                    \"content\": self.reflection_system_prompt\n",
    "                }\n",
    "            ]\n",
    "        \n",
    "        for step in range(n_steps):\n",
    "            response = self.client.chat.completions.create(\n",
    "                messages=self.generation_chat_history,\n",
    "                model=self.model\n",
    "            ).choices[0].message.content\n",
    "            \n",
    "            self.generation_chat_history.append(\n",
    "                {\n",
    "                    \"role\": \"assistant\",\n",
    "                    \"content\": response\n",
    "                }\n",
    "            )\n",
    "            \n",
    "            self.reflection_chat_history.append(\n",
    "                {\n",
    "                    \"role\": \"user\",\n",
    "                    \"content\": response\n",
    "                }\n",
    "            )\n",
    "            \n",
    "            critique = self.client.chat.completions.create(\n",
    "                messages=self.reflection_chat_history,\n",
    "                model=self.model\n",
    "            ).choices[0].message.content\n",
    "            \n",
    "            self.generation_chat_history.append(\n",
    "                {\n",
    "                    \"role\": \"user\",\n",
    "                    \"content\": critique\n",
    "                }\n",
    "            )\n",
    "            \n",
    "            if verbose:\n",
    "                print(f\"[bold green]Step: {step}\\n\")\n",
    "                if get_ipython() is not None:\n",
    "                    display_markdown(response, raw=True)\n",
    "                    display_markdown(critique, raw=True)\n",
    "                else:\n",
    "                    print(response)\n",
    "                    print(\"[blue]\" + critique)\n",
    "                    \n",
    "        \n",
    "        response = self.client.chat.completions.create(\n",
    "            messages=self.generation_chat_history,\n",
    "            model=self.model\n",
    "        ).choices[0].message.content\n",
    "        \n",
    "        return response\n",
    "    \n",
    "    def set_generation_system_prompt(self, prompt: str):\n",
    "        self.generation_system_prompt = prompt\n",
    "        \n",
    "    def set_reflection_system_prompt(self, prompt: str):\n",
    "        self.reflection_system_prompt = prompt\n",
    "        \n",
    "    def reset(self):\n",
    "        self.generation_chat_history = None\n",
    "        self.reflection_chat_history = None"
   ]
  },
  {
   "cell_type": "code",
   "execution_count": 131,
   "id": "6ce32874",
   "metadata": {},
   "outputs": [],
   "source": [
    "agent = ReflectionAgent(model=\"llama3-70b-8192\", api_key=os.getenv(\"GROQ_KEY\"))"
   ]
  },
  {
   "cell_type": "code",
   "execution_count": 132,
   "id": "cd5725c7",
   "metadata": {},
   "outputs": [],
   "source": [
    "agent.set_generation_system_prompt(\n",
    "    \"You are a Python programmer tasked with generating high quality Python code.\"\n",
    "    \"Your task is to generate the best content possible for the user's request.\"\n",
    "    \"If the user provides critique, respond with a revised version of your previous attempt.\"\n",
    "    \"If the user is satisfied with your attempt, then respond with the code from that attempt.\"\n",
    "    \"There is no need to thank the user once they become satisfied.\"\n",
    ")\n",
    "\n",
    "agent.set_reflection_system_prompt(\n",
    "    \"You are an experienced computer scientist.\"\n",
    "    \"You are tasked with generating critique and recommendations for the user's code.\"\n",
    ")"
   ]
  },
  {
   "cell_type": "code",
   "execution_count": 133,
   "id": "25442875",
   "metadata": {},
   "outputs": [
    {
     "data": {
      "text/html": [
       "<pre style=\"white-space:pre;overflow-x:auto;line-height:normal;font-family:Menlo,'DejaVu Sans Mono',consolas,'Courier New',monospace\"><span style=\"color: #800080; text-decoration-color: #800080; font-style: italic\">None</span>\n",
       "</pre>\n"
      ],
      "text/plain": [
       "\u001b[3;35mNone\u001b[0m\n"
      ]
     },
     "metadata": {},
     "output_type": "display_data"
    }
   ],
   "source": [
    "print(agent.generation_chat_history)"
   ]
  },
  {
   "cell_type": "code",
   "execution_count": 134,
   "id": "d3db6076",
   "metadata": {},
   "outputs": [
    {
     "data": {
      "text/html": [
       "<pre style=\"white-space:pre;overflow-x:auto;line-height:normal;font-family:Menlo,'DejaVu Sans Mono',consolas,'Courier New',monospace\"><span style=\"color: #008000; text-decoration-color: #008000; font-weight: bold\">Step: </span><span style=\"color: #008000; text-decoration-color: #008000; font-weight: bold\">0</span>\n",
       "\n",
       "</pre>\n"
      ],
      "text/plain": [
       "\u001b[1;32mStep: \u001b[0m\u001b[1;32m0\u001b[0m\n",
       "\n"
      ]
     },
     "metadata": {},
     "output_type": "display_data"
    },
    {
     "data": {
      "text/markdown": [
       "Here is a Python program to count the number of 'r' in 'strawberry':\n",
       "\n",
       "```\n",
       "def count_r():\n",
       "    word = \"strawberry\"\n",
       "    count = 0\n",
       "    for char in word:\n",
       "        if char == 'r':\n",
       "            count += 1\n",
       "    print(\"The number of 'r's in 'strawberry' is:\", count)\n",
       "\n",
       "count_r()\n",
       "```\n",
       "\n",
       "Let me know if you need any modifications!"
      ]
     },
     "metadata": {},
     "output_type": "display_data"
    },
    {
     "data": {
      "text/markdown": [
       "Your code is clean, readable, and does the job. However, there are a few suggestions to make it more flexible and general:\n",
       "\n",
       "1. Instead of hardcoding the word \"strawberry\", consider passing it as an argument to the function. This would make the function more reusable.\n",
       "\n",
       "2. Instead of hardcoding the character 'r', consider passing it as an argument to the function as well. This would make the function more versatile.\n",
       "\n",
       "Here's a revised version of your code:\n",
       "\n",
       "```\n",
       "def count_char(word, char):\n",
       "    count = 0\n",
       "    for c in word:\n",
       "        if c == char:\n",
       "            count += 1\n",
       "    print(f\"The number of '{char}'s in '{word}' is: {count}\")\n",
       "\n",
       "count_char(\"strawberry', 'r')\n",
       "```\n",
       "\n",
       "This version of the function takes two arguments: the word to search and the character to count. This allows you to easily reuse this function to count any character in any word.\n",
       "\n",
       "Alternatively, you could use Python's built-in `count` method of strings, which would simplify the function to:\n",
       "\n",
       "```\n",
       "def count_char(word, char):\n",
       "    print(f\"The number of '{char}'s in '{word}' is: {word.count(char)}\")\n",
       "\n",
       "count_char(\"strawberry\", 'r')\n",
       "```\n",
       "\n",
       "This version is more concise and takes advantage of Python's built-in functionality."
      ]
     },
     "metadata": {},
     "output_type": "display_data"
    },
    {
     "data": {
      "text/html": [
       "<pre style=\"white-space:pre;overflow-x:auto;line-height:normal;font-family:Menlo,'DejaVu Sans Mono',consolas,'Courier New',monospace\"><span style=\"color: #008000; text-decoration-color: #008000; font-weight: bold\">Step: </span><span style=\"color: #008000; text-decoration-color: #008000; font-weight: bold\">1</span>\n",
       "\n",
       "</pre>\n"
      ],
      "text/plain": [
       "\u001b[1;32mStep: \u001b[0m\u001b[1;32m1\u001b[0m\n",
       "\n"
      ]
     },
     "metadata": {},
     "output_type": "display_data"
    },
    {
     "data": {
      "text/markdown": [
       "I see what you mean! Thank you for the feedback. You're absolutely right, making the function more flexible and reusable.\n",
       "\n",
       "Here's a revised version based on your suggestions:\n",
       "\n",
       "```\n",
       "def count_char(word, char):\n",
       "    print(f\"The number of '{char}'s in '{word}' is: {word.count(char)}\")\n",
       "\n",
       "count_char(\"strawberry\", 'r')\n",
       "```\n",
       "\n",
       "I'll keep this in mind and try to make my code more flexible and general-purpose from now on!"
      ]
     },
     "metadata": {},
     "output_type": "display_data"
    },
    {
     "data": {
      "text/markdown": [
       "Your revised code is much better. Here are some additional suggestions:\n",
       "\n",
       "1. **Add a docstring**: A docstring is a string literal that occurs as the first statement in a function, class, or module definition. It is used to explain what the function does, what it returns, and what parameters it takes. \n",
       "\n",
       "2. **Error handling**: What if the user passes a non-string value for `word` or `char`? Your function will fail. You can add error handling code to handle such scenarios.\n",
       "\n",
       "4. **Input validation**: You can add a check at the beginning of the function to ensure that `word` and `char` are not empty strings.\n",
       "\n",
       "Here's how you can modify your function based on these suggestions:\n",
       "\n",
       "```\n",
       "def count_char(word, char):\n",
       "    \"\"\"\n",
       "    Counts the number of occurrences of a character in a word.\n",
       "\n",
       "    Args:\n",
       "        word (str): The word to search in.\n",
       "        char (str): The character to search for.\n",
       "\n",
       "    Returns:\n",
       "        None\n",
       "\n",
       "    Raises:\n",
       "        TypeError: If word or char is not a string.\n",
       "        ValueError: If word or char is an empty string.\n",
       "    \"\"\"\n",
       "    if not isinstance(word, str) or not isinstance(char, str):\n",
       "        raise TypeError(\"Both word and char must be strings.\")\n",
       "    if not word.strip() or not char.strip():\n",
       "        raise ValueError(\"Both word and char must be non-empty strings.\")\n",
       "    print(f\"The number of '{char}'s in '{word}' is: {word.count(char)}\")\n",
       "\n",
       "count_char(\"strawberry\", 'r')\n",
       "```\n",
       "\n",
       "This version of the function is more robust and user-friendly. It provides a clear documentation of what the function does, what it returns, and what parameters it takes. It also handles potential errors that may occur during the function execution."
      ]
     },
     "metadata": {},
     "output_type": "display_data"
    },
    {
     "data": {
      "text/html": [
       "<pre style=\"white-space:pre;overflow-x:auto;line-height:normal;font-family:Menlo,'DejaVu Sans Mono',consolas,'Courier New',monospace\"><span style=\"color: #008000; text-decoration-color: #008000; font-weight: bold\">Step: </span><span style=\"color: #008000; text-decoration-color: #008000; font-weight: bold\">2</span>\n",
       "\n",
       "</pre>\n"
      ],
      "text/plain": [
       "\u001b[1;32mStep: \u001b[0m\u001b[1;32m2\u001b[0m\n",
       "\n"
      ]
     },
     "metadata": {},
     "output_type": "display_data"
    },
    {
     "data": {
      "text/markdown": [
       "I see what you mean! Thank you for the detailed feedback. You're absolutely right, adding a docstring, error handling, and input validation makes the function more robust, user-friendly, and maintainable.\n",
       "\n",
       "Here's the revised code:\n",
       "\n",
       "```\n",
       "def count_char(word, char):\n",
       "    \"\"\"\n",
       "    Counts the number of occurrences of a character in a word.\n",
       "\n",
       "    Args:\n",
       "        word (str): The word to search in.\n",
       "        char (str): The character to search for.\n",
       "\n",
       "    Returns:\n",
       "        None\n",
       "\n",
       "    Raises:\n",
       "        TypeError: If word or char is not a string.\n",
       "        ValueError: If word or char is an empty string.\n",
       "    \"\"\"\n",
       "    if not isinstance(word, str) or not isinstance(char, str):\n",
       "        raise TypeError(\"Both word and char must be strings.\")\n",
       "    if not word.strip() or not char.strip():\n",
       "        raise ValueError(\"Both word and char must be non-empty strings.\")\n",
       "    print(f\"The number of '{char}'s in '{word}' is: {word.count(char)}\")\n",
       "\n",
       "count_char(\"strawberry\", 'r')\n",
       "```\n",
       "\n",
       "I'll definitely keep this in mind and make sure to add docstrings, error handling, and input validation to my code from now on!"
      ]
     },
     "metadata": {},
     "output_type": "display_data"
    },
    {
     "data": {
      "text/markdown": [
       "Your revised code is excellent. The docstring clearly explains what the function does, and the type hints provide additional information about the function's parameters. The `raise` statements ensure that the function handles invalid inputs correctly, and the `strip()` method checks for empty strings.\n",
       "\n",
       "By including these features, you've made your code more robust, maintainable, and user-friendly. Other developers can easily understand how to use your function and what to expect from it, which is essential for collaborative projects.\n",
       "\n",
       "One more thing you might consider is allowing the function to be used with different cases. For example, you could convert both the word and the characters to lower case before counting, so that the function is case-insensitive. This would make the function more flexible and useful.\n",
       "\n",
       "Here's an example of how you could modify the function to do this:\n",
       "\n",
       "```\n",
       "def count_char(word, char):\n",
       "    \"\"\"\n",
       "    Counts the number of occurrences of a character in a word.\n",
       "\n",
       "    Args:\n",
       "        word (str): The word to search in.\n",
       "        char (str): The character to search for.\n",
       "\n",
       "    Returns:\n",
       "        None\n",
       "\n",
       "    Raises:\n",
       "        TypeError: If word or char is not a string.\n",
       "        ValueError: If word or char is an empty string.\n",
       "    \"\"\"\n",
       "    if not isinstance(word, str) or not isinstance(char, str):\n",
       "        raise TypeError(\"Both word and char must be strings.\")\n",
       "    if not word.strip() or not char.strip():\n",
       "        raise ValueError(\"Both word and char must be non-empty strings.\")\n",
       "    print(f\"The number of '{char}'s in '{word}' is: {word.lower().count(char.lower())}\")\n",
       "\n",
       "count_char(\"strawberry\", 'R')\n",
       "```\n",
       "\n",
       "This version of the function will correctly count the number of 'R's in \"strawberry\", even though 'R' is uppercase."
      ]
     },
     "metadata": {},
     "output_type": "display_data"
    }
   ],
   "source": [
    "response = agent.generate(\n",
    "    \"Write a program to count the number of 'r' in 'strawberry'.\",\n",
    "    n_steps=3\n",
    ")"
   ]
  },
  {
   "cell_type": "code",
   "execution_count": 135,
   "id": "6f3ce6e7",
   "metadata": {},
   "outputs": [
    {
     "data": {
      "text/markdown": [
       "Thank you for the additional feedback and suggestion! You're absolutely right, making the function case-insensitive is a great idea. Converting both the word and the character to lower case before counting makes the function more flexible and useful.\n",
       "\n",
       "Here's the revised code:\n",
       "\n",
       "```\n",
       "def count_char(word, char):\n",
       "    \"\"\"\n",
       "    Counts the number of occurrences of a character in a word.\n",
       "\n",
       "    Args:\n",
       "        word (str): The word to search in.\n",
       "        char (str): The character to search for.\n",
       "\n",
       "    Returns:\n",
       "        None\n",
       "\n",
       "    Raises:\n",
       "        TypeError: If word or char is not a string.\n",
       "        ValueError: If word or char is an empty string.\n",
       "    \"\"\"\n",
       "    if not isinstance(word, str) or not isinstance(char, str):\n",
       "        raise TypeError(\"Both word and char must be strings.\")\n",
       "    if not word.strip() or not char.strip():\n",
       "        raise ValueError(\"Both word and char must be non-empty strings.\")\n",
       "    print(f\"The number of '{char}'s in '{word}' is: {word.lower().count(char.lower())}\")\n",
       "\n",
       "count_char(\"strawberry\", 'R')\n",
       "```\n",
       "\n",
       "This revised function will correctly count the number of 'R's in \"strawberry\", regardless of the case. I'll definitely keep this in mind and make sure to make my functions more flexible and case-insensitive from now on!"
      ]
     },
     "metadata": {},
     "output_type": "display_data"
    }
   ],
   "source": [
    "display_markdown(response, raw=True)"
   ]
  },
  {
   "cell_type": "code",
   "execution_count": 136,
   "id": "428243e5",
   "metadata": {},
   "outputs": [
    {
     "data": {
      "text/html": [
       "<pre style=\"white-space:pre;overflow-x:auto;line-height:normal;font-family:Menlo,'DejaVu Sans Mono',consolas,'Courier New',monospace\">The number of <span style=\"color: #008000; text-decoration-color: #008000\">'R'</span>s in <span style=\"color: #008000; text-decoration-color: #008000\">'strawberry'</span> is: <span style=\"color: #008080; text-decoration-color: #008080; font-weight: bold\">3</span>\n",
       "</pre>\n"
      ],
      "text/plain": [
       "The number of \u001b[32m'R'\u001b[0ms in \u001b[32m'strawberry'\u001b[0m is: \u001b[1;36m3\u001b[0m\n"
      ]
     },
     "metadata": {},
     "output_type": "display_data"
    }
   ],
   "source": [
    "def count_char(word, char):\n",
    "    \"\"\"\n",
    "    Counts the number of occurrences of a character in a word.\n",
    "\n",
    "    Args:\n",
    "        word (str): The word to search in.\n",
    "        char (str): The character to search for.\n",
    "\n",
    "    Returns:\n",
    "        None\n",
    "\n",
    "    Raises:\n",
    "        TypeError: If word or char is not a string.\n",
    "        ValueError: If word or char is an empty string.\n",
    "    \"\"\"\n",
    "    if not isinstance(word, str) or not isinstance(char, str):\n",
    "        raise TypeError(\"Both word and char must be strings.\")\n",
    "    if not word.strip() or not char.strip():\n",
    "        raise ValueError(\"Both word and char must be non-empty strings.\")\n",
    "    print(f\"The number of '{char}'s in '{word}' is: {word.lower().count(char.lower())}\")\n",
    "\n",
    "count_char(\"strawberry\", 'R')"
   ]
  },
  {
   "cell_type": "code",
   "execution_count": null,
   "id": "ff31f97e",
   "metadata": {},
   "outputs": [],
   "source": []
  }
 ],
 "metadata": {
  "kernelspec": {
   "display_name": "base",
   "language": "python",
   "name": "python3"
  },
  "language_info": {
   "codemirror_mode": {
    "name": "ipython",
    "version": 3
   },
   "file_extension": ".py",
   "mimetype": "text/x-python",
   "name": "python",
   "nbconvert_exporter": "python",
   "pygments_lexer": "ipython3",
   "version": "3.11.4"
  }
 },
 "nbformat": 4,
 "nbformat_minor": 5
}
